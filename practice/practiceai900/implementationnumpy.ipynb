{
 "cells": [
  {
   "cell_type": "markdown",
   "metadata": {},
   "source": [
    "# Array Creation & Initialization"
   ]
  },
  {
   "cell_type": "code",
   "execution_count": 1,
   "metadata": {},
   "outputs": [
    {
     "name": "stdout",
     "output_type": "stream",
     "text": [
      "Identity Matrix:\n",
      " [[1. 0. 0.]\n",
      " [0. 1. 0.]\n",
      " [0. 0. 1.]]\n",
      "1D Array: [1 2 3 4 5 6 7 8 9]\n"
     ]
    }
   ],
   "source": [
    "import numpy as np\n",
    "\n",
    "# 3x3 Identity matrix\n",
    "identity_matrix = np.eye(3)\n",
    "\n",
    "# 1D array with integers from 1 to 9\n",
    "arr = np.arange(1, 10)\n",
    "\n",
    "print(\"Identity Matrix:\\n\", identity_matrix)\n",
    "print(\"1D Array:\", arr)\n"
   ]
  },
  {
   "cell_type": "markdown",
   "metadata": {},
   "source": [
    "# Element-wise Operations on Arrays"
   ]
  },
  {
   "cell_type": "code",
   "execution_count": 2,
   "metadata": {},
   "outputs": [
    {
     "name": "stdout",
     "output_type": "stream",
     "text": [
      "Total Balances: [2200 3100 4100 1050]\n",
      "Growth Percentage: [20.          6.66666667  5.         10.        ]\n"
     ]
    }
   ],
   "source": [
    "# Account balances in two months\n",
    "account_month1 = np.array([1000, 1500, 2000, 500])\n",
    "account_month2 = np.array([1200, 1600, 2100, 550])\n",
    "\n",
    "# Add the two months to get the total balances\n",
    "total_balances = account_month1 + account_month2\n",
    "\n",
    "# Calculate the monthly growth percentage\n",
    "growth = ((account_month2 - account_month1) / account_month1) * 100\n",
    "\n",
    "print(\"Total Balances:\", total_balances)\n",
    "print(\"Growth Percentage:\", growth)\n"
   ]
  },
  {
   "cell_type": "markdown",
   "metadata": {},
   "source": [
    "# Filtering and Conditional Operations"
   ]
  },
  {
   "cell_type": "code",
   "execution_count": 3,
   "metadata": {},
   "outputs": [
    {
     "name": "stdout",
     "output_type": "stream",
     "text": [
      "Days with temperatures above 30°C: [35 40 33]\n"
     ]
    }
   ],
   "source": [
    "# Array of daily temperatures\n",
    "temperatures = np.array([25, 30, 35, 28, 40, 22, 33])\n",
    "\n",
    "# Filter out temperatures above 30°C\n",
    "hot_days = temperatures[temperatures > 30]\n",
    "\n",
    "print(\"Days with temperatures above 30°C:\", hot_days)\n"
   ]
  },
  {
   "cell_type": "markdown",
   "metadata": {},
   "source": [
    "#  Data Reshaping"
   ]
  },
  {
   "cell_type": "code",
   "execution_count": 4,
   "metadata": {},
   "outputs": [
    {
     "name": "stdout",
     "output_type": "stream",
     "text": [
      "Reshaped Scores Matrix:\n",
      " [[85 90 78]\n",
      " [88 92 81]\n",
      " [95 87 89]\n",
      " [80 85 86]]\n"
     ]
    }
   ],
   "source": [
    "# Scores of 6 students in 3 subjects\n",
    "scores = np.array([85, 90, 78, 88, 92, 81, 95, 87, 89, 80, 85, 86])\n",
    "\n",
    "# Reshape the 1D array into a 2D array of 4x3 (4 students, 3 subjects)\n",
    "reshaped_scores = scores.reshape(4, 3)\n",
    "\n",
    "print(\"Reshaped Scores Matrix:\\n\", reshaped_scores)\n"
   ]
  },
  {
   "cell_type": "markdown",
   "metadata": {},
   "source": [
    "# Statistical Operations"
   ]
  },
  {
   "cell_type": "code",
   "execution_count": 5,
   "metadata": {},
   "outputs": [
    {
     "name": "stdout",
     "output_type": "stream",
     "text": [
      "Mean Sales: 290.8333333333333\n",
      "Median Sales: 285.0\n",
      "Standard Deviation of Sales: 97.59254866820292\n"
     ]
    }
   ],
   "source": [
    "# Sales data for a product over 12 months\n",
    "sales = np.array([150, 200, 250, 180, 220, 300, 270, 320, 310, 400, 390, 500])\n",
    "\n",
    "# Calculate statistical measures\n",
    "mean_sales = np.mean(sales)\n",
    "median_sales = np.median(sales)\n",
    "std_dev_sales = np.std(sales)\n",
    "\n",
    "print(f\"Mean Sales: {mean_sales}\")\n",
    "print(f\"Median Sales: {median_sales}\")\n",
    "print(f\"Standard Deviation of Sales: {std_dev_sales}\")\n"
   ]
  },
  {
   "cell_type": "markdown",
   "metadata": {},
   "source": [
    "# Matrix Multiplication for Data Transformation"
   ]
  },
  {
   "cell_type": "code",
   "execution_count": 6,
   "metadata": {},
   "outputs": [
    {
     "name": "stdout",
     "output_type": "stream",
     "text": [
      "Rotated Point: [-3  2]\n"
     ]
    }
   ],
   "source": [
    "# Point in 2D space\n",
    "point = np.array([2, 3])\n",
    "\n",
    "# Rotation matrix (for rotating 90 degrees counterclockwise)\n",
    "rotation_matrix = np.array([[0, -1], [1, 0]])\n",
    "\n",
    "# Perform matrix multiplication (dot product)\n",
    "rotated_point = np.dot(rotation_matrix, point)\n",
    "\n",
    "print(\"Rotated Point:\", rotated_point)\n"
   ]
  },
  {
   "cell_type": "markdown",
   "metadata": {},
   "source": [
    "## Solving Linear Equations\n",
    "Problem: Solve a system of linear equations. For example:\n",
    "\n",
    "2\n",
    "𝑥\n",
    "+\n",
    "3\n",
    "𝑦\n",
    "=\n",
    "5\n",
    "2x+3y=5\n",
    "4\n",
    "𝑥\n",
    "+\n",
    "𝑦\n",
    "=\n",
    "6\n",
    "4x+y=6"
   ]
  },
  {
   "cell_type": "code",
   "execution_count": 7,
   "metadata": {},
   "outputs": [
    {
     "name": "stdout",
     "output_type": "stream",
     "text": [
      "Solution (x, y): [1.3 0.8]\n"
     ]
    }
   ],
   "source": [
    "# Coefficients of the equations\n",
    "A = np.array([[2, 3], [4, 1]])\n",
    "\n",
    "# Constants on the right-hand side of the equations\n",
    "B = np.array([5, 6])\n",
    "\n",
    "# Solving for x and y\n",
    "solution = np.linalg.solve(A, B)\n",
    "\n",
    "print(\"Solution (x, y):\", solution)\n"
   ]
  },
  {
   "cell_type": "markdown",
   "metadata": {},
   "source": [
    "# Working with Random Numbers"
   ]
  },
  {
   "cell_type": "code",
   "execution_count": 8,
   "metadata": {},
   "outputs": [
    {
     "name": "stdout",
     "output_type": "stream",
     "text": [
      "Probabilities of each die face: [0.158 0.156 0.177 0.176 0.164 0.169]\n"
     ]
    }
   ],
   "source": [
    "# Simulate 1000 rolls of a fair die (values from 1 to 6)\n",
    "rolls = np.random.randint(1, 7, size=1000)\n",
    "\n",
    "# Calculate the frequency of each die face\n",
    "frequencies = np.bincount(rolls)[1:]  # Exclude zero (index 0)\n",
    "\n",
    "# Calculate probabilities\n",
    "probabilities = frequencies / 1000\n",
    "\n",
    "print(\"Probabilities of each die face:\", probabilities)\n"
   ]
  },
  {
   "cell_type": "markdown",
   "metadata": {},
   "source": [
    "# Data Aggregation"
   ]
  },
  {
   "cell_type": "code",
   "execution_count": 9,
   "metadata": {},
   "outputs": [
    {
     "name": "stdout",
     "output_type": "stream",
     "text": [
      "Total sales for each store: [ 670  930  520 1240]\n"
     ]
    }
   ],
   "source": [
    "# Sales data (4 stores and 3 months)\n",
    "sales_data = np.array([[200, 220, 250],\n",
    "                       [300, 310, 320],\n",
    "                       [150, 180, 190],\n",
    "                       [400, 430, 410]])\n",
    "\n",
    "# Sum sales across columns for each store\n",
    "total_sales_per_store = np.sum(sales_data, axis=1)\n",
    "\n",
    "print(\"Total sales for each store:\", total_sales_per_store)\n"
   ]
  },
  {
   "cell_type": "markdown",
   "metadata": {},
   "source": [
    "# Sorting & Searching"
   ]
  },
  {
   "cell_type": "code",
   "execution_count": 10,
   "metadata": {},
   "outputs": [
    {
     "name": "stdout",
     "output_type": "stream",
     "text": [
      "Sorted Grades: [76 79 85 88 90 92 94]\n",
      "Position of grade 85: (array([3]),)\n"
     ]
    }
   ],
   "source": [
    "# Array of student grades\n",
    "grades = np.array([88, 92, 79, 85, 94, 76, 90])\n",
    "\n",
    "# Sort the grades\n",
    "sorted_grades = np.sort(grades)\n",
    "\n",
    "# Find the position of grade 85\n",
    "position = np.where(grades == 85)\n",
    "\n",
    "print(\"Sorted Grades:\", sorted_grades)\n",
    "print(\"Position of grade 85:\", position)\n"
   ]
  },
  {
   "cell_type": "code",
   "execution_count": null,
   "metadata": {},
   "outputs": [],
   "source": []
  }
 ],
 "metadata": {
  "kernelspec": {
   "display_name": "Python 3",
   "language": "python",
   "name": "python3"
  },
  "language_info": {
   "codemirror_mode": {
    "name": "ipython",
    "version": 3
   },
   "file_extension": ".py",
   "mimetype": "text/x-python",
   "name": "python",
   "nbconvert_exporter": "python",
   "pygments_lexer": "ipython3",
   "version": "3.12.5"
  }
 },
 "nbformat": 4,
 "nbformat_minor": 2
}
